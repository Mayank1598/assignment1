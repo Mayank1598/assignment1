{
 "cells": [
  {
   "cell_type": "raw",
   "id": "e5db5d06-5318-4663-8ee6-0392e57b2eeb",
   "metadata": {},
   "source": [
    "Q1. Create a function which will take a list as an argument and return the product of all the numbers after creating a flat list.\n",
    "Use the below-given list as an argument for your function.\n",
    "list1 = [1,2,3,4, [44,55,66, True], False, (34,56,78,89,34), {1,2,3,3,2,1}, {1:34, \"key2\": [55, 67, 78, 89],4: (45,22, 61, 34)}, [56, 'data science'], 'Machine Learning']\n",
    "Note: you must extract numeric keys and values of the dictionary also."
   ]
  },
  {
   "cell_type": "code",
   "execution_count": 1,
   "id": "acbdd4b9-b7c5-4f12-9b7c-9ad9e20d3db1",
   "metadata": {},
   "outputs": [
    {
     "name": "stdout",
     "output_type": "stream",
     "text": [
      "Final product of all numbers in the list is 4134711838987085478833841242112000\n"
     ]
    }
   ],
   "source": [
    "##ans-\n",
    "list1 = [1,2,3,4, [44,55,66, True], False, (34,56,78,89,34), {1,2,3,3,2,1},\n",
    "         {1:34, \"key2\": [55, 67, 78, 89],4: (45,22, 61, 34)}, [56, 'data science'], 'Machine Learning']\n",
    "\n",
    "def func(l):\n",
    "    l1 = []\n",
    "    for i in l:\n",
    "        if type(i) == int:\n",
    "            l1.append(i)\n",
    "        elif type(i) == list or type(i) == tuple or type(i) == set:\n",
    "            for j in i:\n",
    "                if type(j) == int:\n",
    "                    l1.append(j)\n",
    "        elif type(i) == dict:\n",
    "            for j in i.keys():\n",
    "                if type(j) == int:\n",
    "                    l1.append(j)\n",
    "            for j in i.values():\n",
    "                if type(j) == int:\n",
    "                    l1.append(j)\n",
    "                elif type(j) == list or type(j) == tuple or type(j) == set:\n",
    "                    for k in j:\n",
    "                        if type(k) == int:\n",
    "                            l1.append(k)\n",
    "    prod = 1\n",
    "    for i in l1:\n",
    "        prod = prod * i\n",
    "    return prod\n",
    "print(f'Final product of all numbers in the list is {func(list1)}')\n",
    "      \n",
    "## Note this function doesnot count numbers in a set multiple times     \n"
   ]
  },
  {
   "cell_type": "raw",
   "id": "51dd5f24-1ed3-474e-a32b-15d6b41ca182",
   "metadata": {},
   "source": [
    "Q2. Write a python program for encrypting a message sent to you by your friend. The logic of encryption should be such that, for a the output should be z. For b, the output should be y. For c, the output should be x respectively. Also, the whitespace should be replaced with a dollar sign. Keep the punctuation hmarks unchanged.\n",
    "Input Sentence: I want to become a Data Scientist.\n",
    "Encrypt the above input sentence using the program you just created.\n",
    "Note: Convert the given input sentence into lowercase before encrypting. The final output should be lowercase."
   ]
  },
  {
   "cell_type": "code",
   "execution_count": 3,
   "id": "8b6a67f7-4ed6-4226-8621-55f8b755cce8",
   "metadata": {},
   "outputs": [
    {
     "name": "stdin",
     "output_type": "stream",
     "text": [
      "Enter your message : mayank\n"
     ]
    },
    {
     "name": "stdout",
     "output_type": "stream",
     "text": [
      "Encripted Message :mzyznk\n"
     ]
    }
   ],
   "source": [
    "#ans-inp_msg = input(\"Enter your message :\")\n",
    "inp_msg = input(\"Enter your message :\")\n",
    "ans = inp_msg.lower().replace('a','z').replace('b','y').replace('c', 'x')\n",
    "print(f'Encripted Message :{ans}')\n"
   ]
  },
  {
   "cell_type": "code",
   "execution_count": null,
   "id": "e0c29084-fe6e-4c41-897e-277ea24667d2",
   "metadata": {},
   "outputs": [],
   "source": []
  }
 ],
 "metadata": {
  "kernelspec": {
   "display_name": "Python 3 (ipykernel)",
   "language": "python",
   "name": "python3"
  },
  "language_info": {
   "codemirror_mode": {
    "name": "ipython",
    "version": 3
   },
   "file_extension": ".py",
   "mimetype": "text/x-python",
   "name": "python",
   "nbconvert_exporter": "python",
   "pygments_lexer": "ipython3",
   "version": "3.10.8"
  }
 },
 "nbformat": 4,
 "nbformat_minor": 5
}
