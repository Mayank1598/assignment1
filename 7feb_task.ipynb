{
 "cells": [
  {
   "cell_type": "code",
   "execution_count": 11,
   "id": "4ace88d6-c598-4a6a-b15f-8ce1caa62386",
   "metadata": {},
   "outputs": [
    {
     "name": "stdout",
     "output_type": "stream",
     "text": [
      "Yes, It starts with a\n",
      "No, It does not with a\n"
     ]
    }
   ],
   "source": [
    "#ans-2\n",
    "##  Check if the string starts with a particular letter.\n",
    "check_start = lambda s : \"Yes, It starts with a\" if s.startswith('a') else \"No, It does not with a\"\n",
    "print(check_start('ankit'))\n",
    "print(check_start('rani'))"
   ]
  },
  {
   "cell_type": "code",
   "execution_count": 4,
   "id": "7cd21d38-0187-478b-94d8-84d070b0857f",
   "metadata": {},
   "outputs": [
    {
     "name": "stdout",
     "output_type": "stream",
     "text": [
      "Yes ,It is numeric\n",
      "No, It is not Numeric\n"
     ]
    }
   ],
   "source": [
    "## Check if the string is numeric.\n",
    "check_num = lambda s : 'Yes ,It is numeric' if s.isnumeric() else 'No, It is not Numeric'\n",
    "print(check_num(\"985\"))\n",
    "print(check_num('mayank'))\n"
   ]
  },
  {
   "cell_type": "code",
   "execution_count": 5,
   "id": "eb5d430c-2c3d-4740-97ea-37a593662ac4",
   "metadata": {},
   "outputs": [
    {
     "name": "stdout",
     "output_type": "stream",
     "text": [
      "[('orange', 80), ('mango', 99), ('grapes', 1000)]\n"
     ]
    }
   ],
   "source": [
    "##  Sort a list of tuples having fruit names and their quantity. [(\"mango\",99),(\"orange\",80), (\"grapes\", 1000)]\n",
    "l = [(\"mango\",99),(\"orange\",80), (\"grapes\", 1000)]\n",
    "sorted_list = lambda l: sorted(l, reverse = True)\n",
    "print(sorted_list(l))\n",
    "    "
   ]
  },
  {
   "cell_type": "code",
   "execution_count": 6,
   "id": "191d0db5-2459-4812-8d80-e394334c3fe3",
   "metadata": {},
   "outputs": [
    {
     "data": {
      "text/plain": [
       "[1, 4, 9, 16, 25, 36, 49, 64, 81, 100]"
      ]
     },
     "execution_count": 6,
     "metadata": {},
     "output_type": "execute_result"
    }
   ],
   "source": [
    "##  Find the squares of numbers from 1 to 10.\n",
    "sq = [x**2 for x in range(1,11)]\n",
    "sq"
   ]
  },
  {
   "cell_type": "code",
   "execution_count": 7,
   "id": "ca7881d3-d7e1-4177-878a-d97092e7d267",
   "metadata": {},
   "outputs": [
    {
     "data": {
      "text/plain": [
       "[1, 8, 27, 64, 125, 216, 343, 512, 729, 1000]"
      ]
     },
     "execution_count": 7,
     "metadata": {},
     "output_type": "execute_result"
    }
   ],
   "source": [
    "## Find the cube of numbers from 1 to 10.\n",
    "cub = [x** 3 for x in range(1,11)]\n",
    "cub"
   ]
  },
  {
   "cell_type": "code",
   "execution_count": 8,
   "id": "60d5f406-c013-4c7e-af62-327bb8baf599",
   "metadata": {},
   "outputs": [
    {
     "name": "stdout",
     "output_type": "stream",
     "text": [
      "No, It is not even\n",
      "Yes ,It is  even\n"
     ]
    }
   ],
   "source": [
    "## Check if a given number is even.\n",
    "Check_even = lambda e : \"Yes ,It is  even\" if e % 2 ==0 else 'No, It is not even'\n",
    "print(Check_even(67))\n",
    "print(Check_even(34))"
   ]
  },
  {
   "cell_type": "code",
   "execution_count": 9,
   "id": "807172ac-7049-42f3-8762-57d69beb2b16",
   "metadata": {},
   "outputs": [
    {
     "data": {
      "text/plain": [
       "[1, 3, 5, 7, 9]"
      ]
     },
     "execution_count": 9,
     "metadata": {},
     "output_type": "execute_result"
    }
   ],
   "source": [
    "## Filter odd numbers from the given list. [1,2,3,4,5,6,7,8,9,10]\n",
    "check_odd = lambda o : True if o % 2 !=0 else False\n",
    "l = [1,2,3,4,5,6,7,8,9,10]\n",
    "list(filter(check_odd, l))"
   ]
  },
  {
   "cell_type": "code",
   "execution_count": 10,
   "id": "2793aa0f-2fda-45e3-9d2b-c8e6a2525d26",
   "metadata": {},
   "outputs": [
    {
     "name": "stdout",
     "output_type": "stream",
     "text": [
      "Positive list [1, 2, 3, 4, 5, 6, 0]\n",
      "Negative list [-1, -2, -3, -4, -5]\n"
     ]
    }
   ],
   "source": [
    "## Sort a list of integers into positive and negative integers lists. [1,2,3,4,5,6,-1,-2,-3,-4,-5,0]\n",
    "list1 = [1,2,3,4,5,6,-1,-2,-3,-4,-5,0]\n",
    "check_positive = [x for x in list1 if x >= 0]\n",
    "check_negative = [x for x in list1 if x < 0]\n",
    "print(f'Positive list {check_positive}')\n",
    "print(f'Negative list {check_negative}')"
   ]
  },
  {
   "cell_type": "code",
   "execution_count": null,
   "id": "5aab19a6-0e4e-4d1d-83cd-697694f209d3",
   "metadata": {},
   "outputs": [],
   "source": []
  }
 ],
 "metadata": {
  "kernelspec": {
   "display_name": "Python 3 (ipykernel)",
   "language": "python",
   "name": "python3"
  },
  "language_info": {
   "codemirror_mode": {
    "name": "ipython",
    "version": 3
   },
   "file_extension": ".py",
   "mimetype": "text/x-python",
   "name": "python",
   "nbconvert_exporter": "python",
   "pygments_lexer": "ipython3",
   "version": "3.10.8"
  }
 },
 "nbformat": 4,
 "nbformat_minor": 5
}
