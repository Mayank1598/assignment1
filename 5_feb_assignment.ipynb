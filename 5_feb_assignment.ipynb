{
 "cells": [
  {
   "cell_type": "code",
   "execution_count": 3,
   "id": "02886e76-bfc1-4e48-848b-a0ecce60fc54",
   "metadata": {},
   "outputs": [
    {
     "name": "stdout",
     "output_type": "stream",
     "text": [
      "mammal\n",
      "I'm a mammal\n",
      "I'm a dog\n"
     ]
    }
   ],
   "source": [
    "## Ans 1-Class creates a user-defined data structure, which holds its own data members and member functions, which can be accessed and used by creating an instance of that class. A class is like a blueprint for an object. Object is a real time entity which can be anything.\n",
    "class Dog:\n",
    " \n",
    "    a = \"mammal\"\n",
    "    b = \"dog\"\n",
    " \n",
    "    def fun(self):\n",
    "        print(\"I'm a\", self.a)\n",
    "        print(\"I'm a\", self.b)\n",
    " \n",
    "Tommy = Dog()\n",
    "\n",
    "print(Tommy.a)\n",
    "Tommy.fun()"
   ]
  },
  {
   "cell_type": "code",
   "execution_count": 5,
   "id": "64c7115c-4bbf-4b68-99ef-abdd0f3b79fd",
   "metadata": {},
   "outputs": [],
   "source": [
    "###ans-2\n",
    "#Following are the four pillars of OOPs:\n",
    "#1) Encapsulation\n",
    "#2) Inheritance\n",
    "#3) Polymorphism\n",
    "#4) Abstraction"
   ]
  },
  {
   "cell_type": "code",
   "execution_count": 6,
   "id": "67688891-2f03-485a-9b01-289d80f06d60",
   "metadata": {},
   "outputs": [
    {
     "name": "stdout",
     "output_type": "stream",
     "text": [
      "Hi Tom\n"
     ]
    }
   ],
   "source": [
    "#ans-3-\n",
    "class animal():\n",
    "    \n",
    "    def __init__(self, name):\n",
    "        self.name = name\n",
    "     \n",
    "    def say_hi(self):\n",
    "        print('Hi',self.name)\n",
    "        \n",
    "a = animal('Tom') \n",
    "a.say_hi()"
   ]
  },
  {
   "cell_type": "code",
   "execution_count": 7,
   "id": "639ac54e-df59-4b3e-bf64-3dd37921874a",
   "metadata": {},
   "outputs": [
    {
     "name": "stdout",
     "output_type": "stream",
     "text": [
      "this is class A method\n"
     ]
    }
   ],
   "source": [
    "##Ans-4- Single Inheritance\n",
    "class a:\n",
    "    def p(self):\n",
    "        print(\"this is class A method\")\n",
    "class b(a):\n",
    "    pass\n",
    "\n",
    "obj = b()\n",
    "obj.p()"
   ]
  },
  {
   "cell_type": "code",
   "execution_count": 8,
   "id": "9793b1ad-6d18-457c-b322-c86bd27d09fb",
   "metadata": {},
   "outputs": [
    {
     "name": "stdout",
     "output_type": "stream",
     "text": [
      "This is class X\n",
      "This is class Y\n"
     ]
    }
   ],
   "source": [
    "## Multi level Inheritance\n",
    "class x:\n",
    "    def q(self):\n",
    "        print(\"This is class X\")\n",
    "class y(x):\n",
    "    def w(self):\n",
    "        print(\"This is class Y\")\n",
    "class z(y):\n",
    "    pass\n",
    "\n",
    "obj2 = z()\n",
    "obj2.q()\n",
    "obj2.w()"
   ]
  },
  {
   "cell_type": "code",
   "execution_count": 9,
   "id": "f8ae9776-3a15-469f-95b0-d4de62dae843",
   "metadata": {},
   "outputs": [
    {
     "name": "stdout",
     "output_type": "stream",
     "text": [
      "This is father class\n",
      "This is mother class\n"
     ]
    }
   ],
   "source": [
    "## Multiple Inheritance\n",
    "class Mother:\n",
    "    def m(self):\n",
    "        print(\"This is mother class\")\n",
    "class Father:\n",
    "    def f(self):\n",
    "        print(\"This is father class\")\n",
    "class son(Mother, Father):\n",
    "    pass\n",
    "obj3 = son()\n",
    "obj3.f()\n",
    "obj3.m()"
   ]
  },
  {
   "cell_type": "code",
   "execution_count": 10,
   "id": "dffb2753-ec5a-4e6f-a143-5ca84d92b37e",
   "metadata": {},
   "outputs": [
    {
     "name": "stdout",
     "output_type": "stream",
     "text": [
      "This function is in parent class.\n",
      "This function is in child 1.\n",
      "This function is in parent class.\n",
      "This function is in child 2.\n"
     ]
    }
   ],
   "source": [
    "## Hierarichal Inheritance\n",
    "class Parent:\n",
    "    def func1(self):\n",
    "        print(\"This function is in parent class.\")\n",
    " \n",
    "class Child1(Parent):\n",
    "    def func2(self):\n",
    "        print(\"This function is in child 1.\")\n",
    " \n",
    "class Child2(Parent):\n",
    "    def func3(self):\n",
    "        print(\"This function is in child 2.\")\n",
    "        \n",
    "obj4 = Child1()\n",
    "obj5 = Child2()\n",
    "obj4.func1()\n",
    "obj4.func2()\n",
    "obj5.func1()\n",
    "obj5.func3()"
   ]
  },
  {
   "cell_type": "code",
   "execution_count": 11,
   "id": "b5bdce66-4e59-44b0-9c54-472fda9af811",
   "metadata": {},
   "outputs": [
    {
     "name": "stdout",
     "output_type": "stream",
     "text": [
      "This function is in parent class.\n",
      "This function is in child 1.\n"
     ]
    }
   ],
   "source": [
    "## Hybrid Inheritance\n",
    "class Parent:\n",
    "    def func1(self):\n",
    "        print(\"This function is in parent class.\")\n",
    " \n",
    "class Child1(Parent):\n",
    "    def func2(self):\n",
    "        print(\"This function is in child 1.\")\n",
    " \n",
    "class Child2(Parent):\n",
    "    def func3(self):\n",
    "        print(\"This function is in child 2.\")\n",
    "class child_of_child1(Child1, Parent):\n",
    "    pass\n",
    "obj6 = child_of_child1()\n",
    "obj6.func1()\n",
    "obj6.func2()"
   ]
  },
  {
   "cell_type": "code",
   "execution_count": null,
   "id": "6dfc4a76-0339-4893-a59e-e559cb29b542",
   "metadata": {},
   "outputs": [],
   "source": []
  }
 ],
 "metadata": {
  "kernelspec": {
   "display_name": "Python 3 (ipykernel)",
   "language": "python",
   "name": "python3"
  },
  "language_info": {
   "codemirror_mode": {
    "name": "ipython",
    "version": 3
   },
   "file_extension": ".py",
   "mimetype": "text/x-python",
   "name": "python",
   "nbconvert_exporter": "python",
   "pygments_lexer": "ipython3",
   "version": "3.10.8"
  }
 },
 "nbformat": 4,
 "nbformat_minor": 5
}
