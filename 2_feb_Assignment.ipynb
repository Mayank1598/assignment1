{
 "cells": [
  {
   "cell_type": "code",
   "execution_count": 1,
   "id": "e82577ee-a738-44ed-981d-02fac29034c8",
   "metadata": {},
   "outputs": [
    {
     "name": "stdout",
     "output_type": "stream",
     "text": [
      "1\n",
      "2\n",
      "3\n",
      "1\n",
      "2\n",
      "3\n",
      "4\n",
      "5\n"
     ]
    }
   ],
   "source": [
    "##Q1. Explain with an example each when to use a for loop and a while loop.\n",
    "# answer-For Loop: A for loop is an iteration method that is best used when you know the number of iterations ahead of time. It’s always followed by the initialization, expression and increment statements.\n",
    "        #While Loop: A while loop is an iteration method that is best used when you don't know the number of iterations ahead of time. The contents of the loop are executed as long as the expression evaluates to true.\n",
    "\n",
    "n = [1, 2, 3]  # Initialization\n",
    "for i in n:  # Condition and Updation\n",
    "    print(i)\n",
    "    \n",
    "    \n",
    "    \n",
    "i = 1  # Initialization\n",
    "while i < 6:  # Condition\n",
    "    print(i)\n",
    "    i += 1  # Updation"
   ]
  },
  {
   "cell_type": "code",
   "execution_count": 3,
   "id": "25be882b-76fe-419e-9cd7-7e60a1a72b99",
   "metadata": {},
   "outputs": [
    {
     "name": "stdout",
     "output_type": "stream",
     "text": [
      "sum of first natural number is : 55\n"
     ]
    }
   ],
   "source": [
    "#answer2-\n",
    "\n",
    "sum = 0\n",
    "for i in range(0,11):\n",
    "    sum = sum + i\n",
    "print('sum of first natural number is :',sum)\n"
   ]
  },
  {
   "cell_type": "code",
   "execution_count": 4,
   "id": "8b4f8a62-29a3-4503-9b4c-6f77b73d1d35",
   "metadata": {},
   "outputs": [
    {
     "name": "stdout",
     "output_type": "stream",
     "text": [
      "sum of first natural number is : 55\n"
     ]
    }
   ],
   "source": [
    "sum =0\n",
    "i=1\n",
    "while i<=10:\n",
    "    sum+=i\n",
    "    i=i+1\n",
    "print('sum of first natural number is :',sum)\n"
   ]
  },
  {
   "cell_type": "code",
   "execution_count": 7,
   "id": "00edc4e0-5980-48a1-ba78-64bab4bba8fa",
   "metadata": {},
   "outputs": [
    {
     "name": "stdout",
     "output_type": "stream",
     "text": [
      "the product is :  3628800\n"
     ]
    }
   ],
   "source": [
    "product = 1\n",
    "for i in range(1,11):\n",
    "    product = product * i\n",
    "print('the product is : ',product)"
   ]
  },
  {
   "cell_type": "code",
   "execution_count": 13,
   "id": "d509a610-4798-4a7f-995a-4366dbd94f04",
   "metadata": {},
   "outputs": [
    {
     "name": "stdout",
     "output_type": "stream",
     "text": [
      "the product is :  3628800\n"
     ]
    }
   ],
   "source": [
    "\n",
    "i =1\n",
    "while i <= 10:\n",
    "    product = product*i\n",
    "    i =i+1\n",
    "print('the product is : ',product)\n",
    "    "
   ]
  },
  {
   "cell_type": "code",
   "execution_count": 60,
   "id": "46cae661-a1e5-49ed-95b0-9936be98e3ad",
   "metadata": {},
   "outputs": [],
   "source": [
    "### question 3 =The per-unit charges in rupees are as follows: For the first 100 units, the user will be charged Rs. 4.5 per\n",
    "#unit, for the next 100 units, the user will be charged Rs. 6 per unit, and for the next 100 units, the user will\n",
    "#be charged Rs. 10 per unit, After 300 units and above the user will be charged Rs. 20 per unit.\n",
    "#You are required to take the units of electricity consumed in a month from the user as input.\n",
    "#Your program must pass this test case: when the unit of electricity consumed by the user in a month is\n",
    "#310, the total electricity bill should be 2250.\n"
   ]
  },
  {
   "cell_type": "code",
   "execution_count": 62,
   "id": "44dd172d-6b69-4bab-8e05-eefc32ebf9b1",
   "metadata": {},
   "outputs": [
    {
     "name": "stdin",
     "output_type": "stream",
     "text": [
      "Enter your unit:  310\n"
     ]
    },
    {
     "name": "stdout",
     "output_type": "stream",
     "text": [
      "Bill Per Unit: 2250\n"
     ]
    }
   ],
   "source": [
    "##Answer=\n",
    "unit = int(input(\"Enter your unit: \"))\n",
    "if unit <= 100:\n",
    "    bill = unit * 4.5\n",
    "elif unit >= 101 and unit <= 200:\n",
    "    bill = 450 + ((unit - 100) * 6)\n",
    "elif unit >= 201 and unit <= 300:\n",
    "    bill = 450 + 600 + ((unit - 200) * 10)\n",
    "else:\n",
    "    bill = 450 + 600 +1000 +((unit -300)*20)\n",
    "print(\"Bill Per Unit:\",bill)\n",
    "    \n"
   ]
  },
  {
   "cell_type": "code",
   "execution_count": null,
   "id": "7d4b6587-3a89-48f6-b0fa-2c7a42e9edec",
   "metadata": {},
   "outputs": [],
   "source": [
    "##Q4. Create a list of numbers from 1 to 100. Use for loop and while loop to calculate the cube of each\n",
    "number and if the cube of that number is divisible by 4 or 5 then append that number in a list and print\n",
    "that list."
   ]
  },
  {
   "cell_type": "code",
   "execution_count": 81,
   "id": "2d86efc9-a3a1-41d7-9105-bf0d63d2d51a",
   "metadata": {},
   "outputs": [
    {
     "name": "stdout",
     "output_type": "stream",
     "text": [
      "[8, 64, 125, 216, 512, 1000, 1728, 2744, 3375, 4096, 5832, 8000, 10648, 13824, 15625, 17576, 21952, 27000, 32768, 39304, 42875, 46656, 54872, 64000, 74088, 85184, 91125, 97336, 110592, 125000, 140608, 157464, 166375, 175616, 195112, 216000, 238328, 262144, 274625, 287496, 314432, 343000, 373248, 405224, 421875, 438976, 474552, 512000, 551368, 592704, 614125, 636056, 681472, 729000, 778688, 830584, 857375, 884736, 941192, 1000000]\n"
     ]
    }
   ],
   "source": [
    "l = list(range(1,101))\n",
    "Cube_list = []\n",
    "for i in l:\n",
    "    i_cube = i*i*i\n",
    "    if i_cube % 4 == 0 or i_cube % 5 == 0:\n",
    "        Cube_list.append(i_cube)\n",
    "print(Cube_list)"
   ]
  },
  {
   "cell_type": "code",
   "execution_count": 82,
   "id": "db3936e9-c691-4af3-9c49-24763fe8f100",
   "metadata": {},
   "outputs": [],
   "source": [
    "##Q5. Write a program to filter count vowels in the below-given string.\n",
    "##string = \"I want to become a data scientist\""
   ]
  },
  {
   "cell_type": "code",
   "execution_count": 85,
   "id": "912cef0b-201b-48ab-9b34-ab8043858fb5",
   "metadata": {},
   "outputs": [
    {
     "name": "stdin",
     "output_type": "stream",
     "text": [
      "enter the sentence: i want to  become data scientist\n"
     ]
    },
    {
     "name": "stdout",
     "output_type": "stream",
     "text": [
      "i want to  become data scientist\n",
      "number vowels in given sentence is : 11\n"
     ]
    }
   ],
   "source": [
    "sentence = input(\"enter the sentence:\")\n",
    "string = sentence.lower()\n",
    "print(string)\n",
    "count=0\n",
    "list1 = ['a','e','i','o','u']\n",
    "for char in string:\n",
    "    if char in list1:\n",
    "        count = count +1\n",
    "print(\"number vowels in given sentence is :\",count)"
   ]
  },
  {
   "cell_type": "code",
   "execution_count": null,
   "id": "e4925daa-f694-4629-8604-fc82464925ee",
   "metadata": {},
   "outputs": [],
   "source": []
  }
 ],
 "metadata": {
  "kernelspec": {
   "display_name": "Python 3 (ipykernel)",
   "language": "python",
   "name": "python3"
  },
  "language_info": {
   "codemirror_mode": {
    "name": "ipython",
    "version": 3
   },
   "file_extension": ".py",
   "mimetype": "text/x-python",
   "name": "python",
   "nbconvert_exporter": "python",
   "pygments_lexer": "ipython3",
   "version": "3.10.8"
  }
 },
 "nbformat": 4,
 "nbformat_minor": 5
}
