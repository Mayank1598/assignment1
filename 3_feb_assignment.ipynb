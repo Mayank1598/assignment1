{
 "cells": [
  {
   "cell_type": "raw",
   "id": "ff2d0816-6f97-44a6-b647-76e4e57ead84",
   "metadata": {},
   "source": [
    "Q1. Which keyword is used to create a function? Create a function to return a list of odd numbers in the range of 1 to 25."
   ]
  },
  {
   "cell_type": "raw",
   "id": "e0b845b6-56e0-48dd-a89f-c1a9735cd359",
   "metadata": {},
   "source": [
    "ans-'def' Keyword is used to create a fuction"
   ]
  },
  {
   "cell_type": "code",
   "execution_count": 1,
   "id": "98feaa22-7adf-40cd-96d6-f40b45a59335",
   "metadata": {},
   "outputs": [],
   "source": [
    "##'def' Keyword is used to create a fuction\n",
    "def odd():\n",
    "    l = range(1,26)\n",
    "    l1 = []\n",
    "    for i in l:\n",
    "        if i % 2 != 0:\n",
    "            l1.append(i)\n",
    "    return l1"
   ]
  },
  {
   "cell_type": "code",
   "execution_count": 2,
   "id": "088b6f1d-aba0-467d-9829-df8ba112902c",
   "metadata": {},
   "outputs": [
    {
     "data": {
      "text/plain": [
       "[1, 3, 5, 7, 9, 11, 13, 15, 17, 19, 21, 23, 25]"
      ]
     },
     "execution_count": 2,
     "metadata": {},
     "output_type": "execute_result"
    }
   ],
   "source": [
    "odd()"
   ]
  },
  {
   "cell_type": "raw",
   "id": "43426881-fbc1-4325-9115-9cddbe4c8e41",
   "metadata": {},
   "source": [
    "Q2. Why args and kwargs is used in some functions? Create a function each for args and **kwargs to demonstrate their use.\n"
   ]
  },
  {
   "cell_type": "raw",
   "id": "c51902c0-d001-4f04-a0f7-ea911661051a",
   "metadata": {},
   "source": [
    "Ans-args are used for multiple arguments in a function and *kwargs are used for multiple key-value arguments in function. When you are unsure about the number of arguments to pass in the functions.then we args amd kwargs."
   ]
  },
  {
   "cell_type": "code",
   "execution_count": 3,
   "id": "296818b4-25fa-413b-9093-e3a83f3a62ec",
   "metadata": {},
   "outputs": [
    {
     "data": {
      "text/plain": [
       "(1, 23, 4, 5, 6, 7, 84, 4, 'Hello', (6-2j), [78, 98, 54, 34])"
      ]
     },
     "execution_count": 3,
     "metadata": {},
     "output_type": "execute_result"
    }
   ],
   "source": [
    "def test(*args):\n",
    "    return args\n",
    "test(1,23,4,5,6,7,84,4,'Hello',(6 - 2j),[78,98,54,34])"
   ]
  },
  {
   "cell_type": "code",
   "execution_count": 4,
   "id": "49dc5edd-36bd-4f6a-9521-acd1e81fa0b3",
   "metadata": {},
   "outputs": [
    {
     "name": "stdout",
     "output_type": "stream",
     "text": [
      "a = [9, 8, 76, 5]\n",
      "b = {465, 67, 'qwerty', 87}\n",
      "c = ('Joker', 'Batman')\n",
      "d = True\n"
     ]
    }
   ],
   "source": [
    "def test1(** kwargs):\n",
    "    for (i, j) in kwargs.items():\n",
    "        print(i+ \" =\", j)\n",
    "test1(a = [9,8,76,5],b = {465,67,87,'qwerty'},c = (\"Joker\",'Batman'), d = True)        \n",
    "    "
   ]
  },
  {
   "cell_type": "raw",
   "id": "a626a845-ceea-49d5-a60b-bc7b16047df7",
   "metadata": {},
   "source": [
    "Q3. What is an iterator in python? Name the method used to initialise the iterator object and the method used for iteration. Use these methods to print the first five elements of the given list [2, 4, 6, 8, 10, 12, 14, 16, 18, 20]."
   ]
  },
  {
   "cell_type": "raw",
   "id": "91ec575a-142f-48b3-b230-c73930993138",
   "metadata": {},
   "source": [
    "ans-An iterator is an object that contains a countable number of values that can be iterated upon, meaning that you can traverse through all the values.\n",
    "iter() method is used to initialise the iterator and next() method is used for iteration"
   ]
  },
  {
   "cell_type": "code",
   "execution_count": 5,
   "id": "5baf24fe-b67a-4391-91a0-728a1bc2d5f8",
   "metadata": {},
   "outputs": [],
   "source": [
    "l = [2,4,6,8,10,12,14,16,18,20]\n",
    "num_list = iter(l)"
   ]
  },
  {
   "cell_type": "code",
   "execution_count": 6,
   "id": "4213a68e-626d-4724-baa3-193a5f90fb92",
   "metadata": {},
   "outputs": [
    {
     "name": "stdout",
     "output_type": "stream",
     "text": [
      "2\n"
     ]
    }
   ],
   "source": [
    "print(next(num_list))"
   ]
  },
  {
   "cell_type": "code",
   "execution_count": 7,
   "id": "e3a35156-1d40-4e11-80a5-607e208fb776",
   "metadata": {},
   "outputs": [
    {
     "name": "stdout",
     "output_type": "stream",
     "text": [
      "4\n"
     ]
    }
   ],
   "source": [
    "print(next(num_list))"
   ]
  },
  {
   "cell_type": "code",
   "execution_count": 8,
   "id": "d70b550f-70c5-4a0b-b890-99bf66752730",
   "metadata": {},
   "outputs": [
    {
     "name": "stdout",
     "output_type": "stream",
     "text": [
      "6\n"
     ]
    }
   ],
   "source": [
    "print(next(num_list))"
   ]
  },
  {
   "cell_type": "code",
   "execution_count": 9,
   "id": "184b13ad-39e0-478f-baf2-73308e43d942",
   "metadata": {},
   "outputs": [
    {
     "name": "stdout",
     "output_type": "stream",
     "text": [
      "8\n"
     ]
    }
   ],
   "source": [
    "print(next(num_list))"
   ]
  },
  {
   "cell_type": "code",
   "execution_count": 10,
   "id": "68cb6682-4e84-4cf3-a9cc-5df29ed9867f",
   "metadata": {},
   "outputs": [
    {
     "name": "stdout",
     "output_type": "stream",
     "text": [
      "10\n"
     ]
    }
   ],
   "source": [
    "print(next(num_list))"
   ]
  },
  {
   "cell_type": "raw",
   "id": "d4b2b0d0-e17c-4371-a2c4-b2e0e51df343",
   "metadata": {},
   "source": [
    "Q4. What is a generator function in python? Why yield keyword is used? Give an example of a generator function."
   ]
  },
  {
   "cell_type": "raw",
   "id": "ec61511c-83fd-46bb-a212-2803d1cb32fd",
   "metadata": {},
   "source": [
    "ans-A Generator is a fuction that returns a iterator that produces a sequence of values when iterated over.\n",
    "Yield keyword helps to do custom stateful iteration over a collection."
   ]
  },
  {
   "cell_type": "code",
   "execution_count": 11,
   "id": "0b67970a-7a1c-493d-a799-93a5f290b77f",
   "metadata": {},
   "outputs": [],
   "source": [
    "def fib(n):\n",
    "    a,b = 0,1\n",
    "    for i in range(n):\n",
    "        yield a\n",
    "        a,b = b,a+b"
   ]
  },
  {
   "cell_type": "code",
   "execution_count": 12,
   "id": "a242566d-f71b-451d-b6c9-2d0e213461cc",
   "metadata": {},
   "outputs": [
    {
     "name": "stdout",
     "output_type": "stream",
     "text": [
      "0\n",
      "1\n",
      "1\n",
      "2\n",
      "3\n",
      "5\n",
      "8\n",
      "13\n",
      "21\n",
      "34\n"
     ]
    }
   ],
   "source": [
    "f = fib(10)\n",
    "for i in f:\n",
    "    print(i)"
   ]
  },
  {
   "cell_type": "raw",
   "id": "78a5cdf9-51df-4e5f-aebe-09dd1ac73ceb",
   "metadata": {},
   "source": [
    "Q5. Create a generator function for prime numbers less than 1000. Use the next() method to print the first 20 prime numbers."
   ]
  },
  {
   "cell_type": "code",
   "execution_count": 13,
   "id": "ccef4fbb-567e-4aba-a67e-6d6ecb00b4e9",
   "metadata": {},
   "outputs": [],
   "source": [
    "#ans-\n",
    "def primes():\n",
    "    yield 2\n",
    "    yield 3\n",
    "    n = 5\n",
    "    while n < 1000:\n",
    "        is_prime = True\n",
    "        for i in range(2, int(n**0.5) + 1):\n",
    "            if n % i == 0:\n",
    "                is_prime = False\n",
    "                break\n",
    "        if is_prime:\n",
    "            yield n\n",
    "        n += 2"
   ]
  },
  {
   "cell_type": "code",
   "execution_count": 14,
   "id": "495f6755-2233-425e-a615-adbe2364f6b6",
   "metadata": {},
   "outputs": [
    {
     "name": "stdout",
     "output_type": "stream",
     "text": [
      "2\n",
      "3\n",
      "5\n",
      "7\n",
      "11\n",
      "13\n",
      "17\n",
      "19\n",
      "23\n",
      "29\n",
      "31\n",
      "37\n",
      "41\n",
      "43\n",
      "47\n",
      "53\n",
      "59\n",
      "61\n",
      "67\n",
      "71\n"
     ]
    }
   ],
   "source": [
    "p = primes()\n",
    "for i in range(20):\n",
    "    print(next(p))"
   ]
  },
  {
   "cell_type": "raw",
   "id": "f298fb41-ae5b-461a-a716-94965c36c3ef",
   "metadata": {},
   "source": [
    "Q6. Write a python program to print the first 10 Fibonacci numbers using a while loop.\n",
    " "
   ]
  },
  {
   "cell_type": "code",
   "execution_count": 15,
   "id": "b1e20f87-08b6-4377-810c-d2a344a03c05",
   "metadata": {},
   "outputs": [
    {
     "name": "stdout",
     "output_type": "stream",
     "text": [
      "0\n",
      "1\n",
      "1\n",
      "2\n",
      "3\n",
      "5\n",
      "8\n",
      "13\n",
      "21\n",
      "34\n"
     ]
    }
   ],
   "source": [
    "#ans\n",
    "a = 0\n",
    "b = 1\n",
    "i = 0\n",
    "while(i < 10):\n",
    "    print(a)\n",
    "    c = a + b\n",
    "    a = b\n",
    "    b = c\n",
    "    i = i + 1\n",
    "    "
   ]
  },
  {
   "cell_type": "raw",
   "id": "7f584727-a17a-4bce-a0b0-50c22d467383",
   "metadata": {},
   "source": [
    "Q7. Write a List Comprehension to iterate through the given string: ‘pwskills’. Expected output: ['p', 'w', 's', 'k', 'i', 'l', 'l', 's']"
   ]
  },
  {
   "cell_type": "code",
   "execution_count": 16,
   "id": "a7db9fd8-9e7a-42bd-b515-54324e5431c4",
   "metadata": {},
   "outputs": [
    {
     "data": {
      "text/plain": [
       "['p', 'w', 's', 'k', 'i', 'l', 'l', 's']"
      ]
     },
     "execution_count": 16,
     "metadata": {},
     "output_type": "execute_result"
    }
   ],
   "source": [
    "#ans\n",
    "[i for i in \"pwskills\"]"
   ]
  },
  {
   "cell_type": "raw",
   "id": "8a2e8a2a-cd1a-4cff-b750-3d49fc754f78",
   "metadata": {},
   "source": [
    "Q8. Write a python program to check whether a given number is Palindrome or not using a while loop."
   ]
  },
  {
   "cell_type": "code",
   "execution_count": 17,
   "id": "c75f526a-6ae3-423e-aacc-c63e5a1b7c04",
   "metadata": {},
   "outputs": [
    {
     "name": "stdin",
     "output_type": "stream",
     "text": [
      "Enter a Number : 678\n"
     ]
    },
    {
     "name": "stdout",
     "output_type": "stream",
     "text": [
      "678 is Palindrome\n"
     ]
    }
   ],
   "source": [
    "#ans-\n",
    "\n",
    "n = int(input('Enter a Number :'))\n",
    "def reverse(n):\n",
    "    reverse = 0\n",
    "    while(n > 0):\n",
    "        temp = n % 10\n",
    "        reverse = reverse * 10 + temp\n",
    "        n = n // 10\n",
    "    return reverse    \n",
    "\n",
    "if n == reverse(n):\n",
    "    print(f'{n} is Palindrome')\n",
    "else:\n",
    "    print(f'{n} is Palindrome')"
   ]
  },
  {
   "cell_type": "raw",
   "id": "787db292-5eb0-47df-b12e-c7fe9db1306a",
   "metadata": {},
   "source": [
    "Q9. Write a code to print odd numbers from 1 to 100 using list comprehension. Note: Use a list comprehension to create a list from 1 to 100 and use another List comprehension to filter out odd numbers."
   ]
  },
  {
   "cell_type": "code",
   "execution_count": null,
   "id": "01050ea0-063c-495e-911c-adbcb0b4117c",
   "metadata": {},
   "outputs": [],
   "source": [
    "#ans-\n",
    "\n"
   ]
  }
 ],
 "metadata": {
  "kernelspec": {
   "display_name": "Python 3 (ipykernel)",
   "language": "python",
   "name": "python3"
  },
  "language_info": {
   "codemirror_mode": {
    "name": "ipython",
    "version": 3
   },
   "file_extension": ".py",
   "mimetype": "text/x-python",
   "name": "python",
   "nbconvert_exporter": "python",
   "pygments_lexer": "ipython3",
   "version": "3.10.8"
  }
 },
 "nbformat": 4,
 "nbformat_minor": 5
}
